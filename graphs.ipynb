{
 "metadata": {
  "language_info": {
   "codemirror_mode": {
    "name": "ipython",
    "version": 3
   },
   "file_extension": ".py",
   "mimetype": "text/x-python",
   "name": "python",
   "nbconvert_exporter": "python",
   "pygments_lexer": "ipython3",
   "version": 3
  },
  "orig_nbformat": 2
 },
 "nbformat": 4,
 "nbformat_minor": 2,
 "cells": [
  {
   "cell_type": "code",
   "execution_count": null,
   "metadata": {},
   "outputs": [],
   "source": [
    "import numpy as np\n",
    "import matplotlib.pyplot as plt\n",
    "\n",
    "plt.rcParams['figure.figsize'] = [8, 4]\n",
    "plt.rcParams['figure.dpi'] = 100\n",
    "\n",
    "solution_depth = [0, 2, 4, 8, 12, 16, 20, 24]\n",
    "UCS_nodes_expanded = [0, 14, 107, 1167, 8207, 54569, 377914, 1526287]\n",
    "MT_nodes_expanded = [0, 5, 26, 199, 2687, 18385, 58034, 624068]\n",
    "MD_nodes_expanded = [0, 5, 22, 120, 646, 3345, 12511, 79224]\n",
    "\n",
    "UCS_max_q = [0, 8, 50, 487, 3378, 22805, 123025, 526893]\n",
    "MT_max_q = [0, 4, 16, 95, 1073, 6874, 22180, 206785]\n",
    "MD_max_q = [0, 4, 14, 62, 293, 1352, 4900, 29879]"
   ]
  }
 ]
}